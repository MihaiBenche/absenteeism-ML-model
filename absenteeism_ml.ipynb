{
 "metadata": {
  "language_info": {
   "codemirror_mode": {
    "name": "ipython",
    "version": 3
   },
   "file_extension": ".py",
   "mimetype": "text/x-python",
   "name": "python",
   "nbconvert_exporter": "python",
   "pygments_lexer": "ipython3",
   "version": "3.8.5-final"
  },
  "orig_nbformat": 2,
  "kernelspec": {
   "name": "python3",
   "display_name": "Python 3",
   "language": "python"
  }
 },
 "nbformat": 4,
 "nbformat_minor": 2,
 "cells": [
  {
   "source": [
    "# Creating a logistic regression to predict absenteeism\n"
   ],
   "cell_type": "markdown",
   "metadata": {}
  },
  {
   "cell_type": "code",
   "execution_count": 1,
   "metadata": {},
   "outputs": [],
   "source": [
    "import numpy as np\n",
    "import pandas as pd"
   ]
  },
  {
   "cell_type": "code",
   "execution_count": 2,
   "metadata": {},
   "outputs": [],
   "source": [
    "data_preprocessed = pd.read_csv('Absenteeism_preprocessed.csv')"
   ]
  },
  {
   "cell_type": "code",
   "execution_count": 3,
   "metadata": {},
   "outputs": [
    {
     "output_type": "execute_result",
     "data": {
      "text/plain": [
       "   Reason_1  Reason_2  Reason_3  Reason_4  Month Value  Day of the week  \\\n",
       "0         0         0         0         1            7                1   \n",
       "1         0         0         0         0            7                1   \n",
       "2         0         0         0         1            7                2   \n",
       "3         1         0         0         0            7                3   \n",
       "4         0         0         0         1            7                3   \n",
       "\n",
       "   Transportation Expense  Distance to Work  Age  Daily Work Load Average  \\\n",
       "0                     289                36   33                  239.554   \n",
       "1                     118                13   50                  239.554   \n",
       "2                     179                51   38                  239.554   \n",
       "3                     279                 5   39                  239.554   \n",
       "4                     289                36   33                  239.554   \n",
       "\n",
       "   Body Mass Index  Education  Children  Pets  Absenteeism Time in Hours  \n",
       "0               30          0         2     1                          4  \n",
       "1               31          0         1     0                          0  \n",
       "2               31          0         0     0                          2  \n",
       "3               24          0         2     0                          4  \n",
       "4               30          0         2     1                          2  "
      ],
      "text/html": "<div>\n<style scoped>\n    .dataframe tbody tr th:only-of-type {\n        vertical-align: middle;\n    }\n\n    .dataframe tbody tr th {\n        vertical-align: top;\n    }\n\n    .dataframe thead th {\n        text-align: right;\n    }\n</style>\n<table border=\"1\" class=\"dataframe\">\n  <thead>\n    <tr style=\"text-align: right;\">\n      <th></th>\n      <th>Reason_1</th>\n      <th>Reason_2</th>\n      <th>Reason_3</th>\n      <th>Reason_4</th>\n      <th>Month Value</th>\n      <th>Day of the week</th>\n      <th>Transportation Expense</th>\n      <th>Distance to Work</th>\n      <th>Age</th>\n      <th>Daily Work Load Average</th>\n      <th>Body Mass Index</th>\n      <th>Education</th>\n      <th>Children</th>\n      <th>Pets</th>\n      <th>Absenteeism Time in Hours</th>\n    </tr>\n  </thead>\n  <tbody>\n    <tr>\n      <th>0</th>\n      <td>0</td>\n      <td>0</td>\n      <td>0</td>\n      <td>1</td>\n      <td>7</td>\n      <td>1</td>\n      <td>289</td>\n      <td>36</td>\n      <td>33</td>\n      <td>239.554</td>\n      <td>30</td>\n      <td>0</td>\n      <td>2</td>\n      <td>1</td>\n      <td>4</td>\n    </tr>\n    <tr>\n      <th>1</th>\n      <td>0</td>\n      <td>0</td>\n      <td>0</td>\n      <td>0</td>\n      <td>7</td>\n      <td>1</td>\n      <td>118</td>\n      <td>13</td>\n      <td>50</td>\n      <td>239.554</td>\n      <td>31</td>\n      <td>0</td>\n      <td>1</td>\n      <td>0</td>\n      <td>0</td>\n    </tr>\n    <tr>\n      <th>2</th>\n      <td>0</td>\n      <td>0</td>\n      <td>0</td>\n      <td>1</td>\n      <td>7</td>\n      <td>2</td>\n      <td>179</td>\n      <td>51</td>\n      <td>38</td>\n      <td>239.554</td>\n      <td>31</td>\n      <td>0</td>\n      <td>0</td>\n      <td>0</td>\n      <td>2</td>\n    </tr>\n    <tr>\n      <th>3</th>\n      <td>1</td>\n      <td>0</td>\n      <td>0</td>\n      <td>0</td>\n      <td>7</td>\n      <td>3</td>\n      <td>279</td>\n      <td>5</td>\n      <td>39</td>\n      <td>239.554</td>\n      <td>24</td>\n      <td>0</td>\n      <td>2</td>\n      <td>0</td>\n      <td>4</td>\n    </tr>\n    <tr>\n      <th>4</th>\n      <td>0</td>\n      <td>0</td>\n      <td>0</td>\n      <td>1</td>\n      <td>7</td>\n      <td>3</td>\n      <td>289</td>\n      <td>36</td>\n      <td>33</td>\n      <td>239.554</td>\n      <td>30</td>\n      <td>0</td>\n      <td>2</td>\n      <td>1</td>\n      <td>2</td>\n    </tr>\n  </tbody>\n</table>\n</div>"
     },
     "metadata": {},
     "execution_count": 3
    }
   ],
   "source": [
    "data_preprocessed.head()"
   ]
  },
  {
   "source": [
    "## Create the targets\n"
   ],
   "cell_type": "markdown",
   "metadata": {}
  },
  {
   "cell_type": "code",
   "execution_count": 4,
   "metadata": {},
   "outputs": [
    {
     "output_type": "execute_result",
     "data": {
      "text/plain": [
       "3.0"
      ]
     },
     "metadata": {},
     "execution_count": 4
    }
   ],
   "source": [
    "#Anything below the median will be 0\n",
    "#Anything above the median will be 1\n",
    "\n",
    "data_preprocessed['Absenteeism Time in Hours'].median()"
   ]
  },
  {
   "cell_type": "code",
   "execution_count": 5,
   "metadata": {},
   "outputs": [],
   "source": [
    "targets = np.where(data_preprocessed['Absenteeism Time in Hours'] > data_preprocessed['Absenteeism Time in Hours'].median(), 1, 0)"
   ]
  },
  {
   "cell_type": "code",
   "execution_count": 6,
   "metadata": {},
   "outputs": [],
   "source": [
    "data_preprocessed['Excessive Absenteeism'] = targets"
   ]
  },
  {
   "cell_type": "code",
   "execution_count": 7,
   "metadata": {},
   "outputs": [
    {
     "output_type": "execute_result",
     "data": {
      "text/plain": [
       "   Reason_1  Reason_2  Reason_3  Reason_4  Month Value  Day of the week  \\\n",
       "0         0         0         0         1            7                1   \n",
       "1         0         0         0         0            7                1   \n",
       "2         0         0         0         1            7                2   \n",
       "3         1         0         0         0            7                3   \n",
       "4         0         0         0         1            7                3   \n",
       "\n",
       "   Transportation Expense  Distance to Work  Age  Daily Work Load Average  \\\n",
       "0                     289                36   33                  239.554   \n",
       "1                     118                13   50                  239.554   \n",
       "2                     179                51   38                  239.554   \n",
       "3                     279                 5   39                  239.554   \n",
       "4                     289                36   33                  239.554   \n",
       "\n",
       "   Body Mass Index  Education  Children  Pets  Absenteeism Time in Hours  \\\n",
       "0               30          0         2     1                          4   \n",
       "1               31          0         1     0                          0   \n",
       "2               31          0         0     0                          2   \n",
       "3               24          0         2     0                          4   \n",
       "4               30          0         2     1                          2   \n",
       "\n",
       "   Excessive Absenteeism  \n",
       "0                      1  \n",
       "1                      0  \n",
       "2                      0  \n",
       "3                      1  \n",
       "4                      0  "
      ],
      "text/html": "<div>\n<style scoped>\n    .dataframe tbody tr th:only-of-type {\n        vertical-align: middle;\n    }\n\n    .dataframe tbody tr th {\n        vertical-align: top;\n    }\n\n    .dataframe thead th {\n        text-align: right;\n    }\n</style>\n<table border=\"1\" class=\"dataframe\">\n  <thead>\n    <tr style=\"text-align: right;\">\n      <th></th>\n      <th>Reason_1</th>\n      <th>Reason_2</th>\n      <th>Reason_3</th>\n      <th>Reason_4</th>\n      <th>Month Value</th>\n      <th>Day of the week</th>\n      <th>Transportation Expense</th>\n      <th>Distance to Work</th>\n      <th>Age</th>\n      <th>Daily Work Load Average</th>\n      <th>Body Mass Index</th>\n      <th>Education</th>\n      <th>Children</th>\n      <th>Pets</th>\n      <th>Absenteeism Time in Hours</th>\n      <th>Excessive Absenteeism</th>\n    </tr>\n  </thead>\n  <tbody>\n    <tr>\n      <th>0</th>\n      <td>0</td>\n      <td>0</td>\n      <td>0</td>\n      <td>1</td>\n      <td>7</td>\n      <td>1</td>\n      <td>289</td>\n      <td>36</td>\n      <td>33</td>\n      <td>239.554</td>\n      <td>30</td>\n      <td>0</td>\n      <td>2</td>\n      <td>1</td>\n      <td>4</td>\n      <td>1</td>\n    </tr>\n    <tr>\n      <th>1</th>\n      <td>0</td>\n      <td>0</td>\n      <td>0</td>\n      <td>0</td>\n      <td>7</td>\n      <td>1</td>\n      <td>118</td>\n      <td>13</td>\n      <td>50</td>\n      <td>239.554</td>\n      <td>31</td>\n      <td>0</td>\n      <td>1</td>\n      <td>0</td>\n      <td>0</td>\n      <td>0</td>\n    </tr>\n    <tr>\n      <th>2</th>\n      <td>0</td>\n      <td>0</td>\n      <td>0</td>\n      <td>1</td>\n      <td>7</td>\n      <td>2</td>\n      <td>179</td>\n      <td>51</td>\n      <td>38</td>\n      <td>239.554</td>\n      <td>31</td>\n      <td>0</td>\n      <td>0</td>\n      <td>0</td>\n      <td>2</td>\n      <td>0</td>\n    </tr>\n    <tr>\n      <th>3</th>\n      <td>1</td>\n      <td>0</td>\n      <td>0</td>\n      <td>0</td>\n      <td>7</td>\n      <td>3</td>\n      <td>279</td>\n      <td>5</td>\n      <td>39</td>\n      <td>239.554</td>\n      <td>24</td>\n      <td>0</td>\n      <td>2</td>\n      <td>0</td>\n      <td>4</td>\n      <td>1</td>\n    </tr>\n    <tr>\n      <th>4</th>\n      <td>0</td>\n      <td>0</td>\n      <td>0</td>\n      <td>1</td>\n      <td>7</td>\n      <td>3</td>\n      <td>289</td>\n      <td>36</td>\n      <td>33</td>\n      <td>239.554</td>\n      <td>30</td>\n      <td>0</td>\n      <td>2</td>\n      <td>1</td>\n      <td>2</td>\n      <td>0</td>\n    </tr>\n  </tbody>\n</table>\n</div>"
     },
     "metadata": {},
     "execution_count": 7
    }
   ],
   "source": [
    "data_preprocessed.head()"
   ]
  },
  {
   "cell_type": "code",
   "execution_count": 8,
   "metadata": {},
   "outputs": [
    {
     "output_type": "execute_result",
     "data": {
      "text/plain": [
       "0.45571428571428574"
      ]
     },
     "metadata": {},
     "execution_count": 8
    }
   ],
   "source": [
    "targets.sum()/targets.shape[0]"
   ]
  },
  {
   "cell_type": "code",
   "execution_count": 9,
   "metadata": {},
   "outputs": [],
   "source": [
    "data_with_targets = data_preprocessed.drop(['Absenteeism Time in Hours'], axis=1)"
   ]
  },
  {
   "cell_type": "code",
   "execution_count": 10,
   "metadata": {},
   "outputs": [
    {
     "output_type": "execute_result",
     "data": {
      "text/plain": [
       "   Reason_1  Reason_2  Reason_3  Reason_4  Month Value  Day of the week  \\\n",
       "0         0         0         0         1            7                1   \n",
       "1         0         0         0         0            7                1   \n",
       "2         0         0         0         1            7                2   \n",
       "3         1         0         0         0            7                3   \n",
       "4         0         0         0         1            7                3   \n",
       "\n",
       "   Transportation Expense  Distance to Work  Age  Daily Work Load Average  \\\n",
       "0                     289                36   33                  239.554   \n",
       "1                     118                13   50                  239.554   \n",
       "2                     179                51   38                  239.554   \n",
       "3                     279                 5   39                  239.554   \n",
       "4                     289                36   33                  239.554   \n",
       "\n",
       "   Body Mass Index  Education  Children  Pets  Excessive Absenteeism  \n",
       "0               30          0         2     1                      1  \n",
       "1               31          0         1     0                      0  \n",
       "2               31          0         0     0                      0  \n",
       "3               24          0         2     0                      1  \n",
       "4               30          0         2     1                      0  "
      ],
      "text/html": "<div>\n<style scoped>\n    .dataframe tbody tr th:only-of-type {\n        vertical-align: middle;\n    }\n\n    .dataframe tbody tr th {\n        vertical-align: top;\n    }\n\n    .dataframe thead th {\n        text-align: right;\n    }\n</style>\n<table border=\"1\" class=\"dataframe\">\n  <thead>\n    <tr style=\"text-align: right;\">\n      <th></th>\n      <th>Reason_1</th>\n      <th>Reason_2</th>\n      <th>Reason_3</th>\n      <th>Reason_4</th>\n      <th>Month Value</th>\n      <th>Day of the week</th>\n      <th>Transportation Expense</th>\n      <th>Distance to Work</th>\n      <th>Age</th>\n      <th>Daily Work Load Average</th>\n      <th>Body Mass Index</th>\n      <th>Education</th>\n      <th>Children</th>\n      <th>Pets</th>\n      <th>Excessive Absenteeism</th>\n    </tr>\n  </thead>\n  <tbody>\n    <tr>\n      <th>0</th>\n      <td>0</td>\n      <td>0</td>\n      <td>0</td>\n      <td>1</td>\n      <td>7</td>\n      <td>1</td>\n      <td>289</td>\n      <td>36</td>\n      <td>33</td>\n      <td>239.554</td>\n      <td>30</td>\n      <td>0</td>\n      <td>2</td>\n      <td>1</td>\n      <td>1</td>\n    </tr>\n    <tr>\n      <th>1</th>\n      <td>0</td>\n      <td>0</td>\n      <td>0</td>\n      <td>0</td>\n      <td>7</td>\n      <td>1</td>\n      <td>118</td>\n      <td>13</td>\n      <td>50</td>\n      <td>239.554</td>\n      <td>31</td>\n      <td>0</td>\n      <td>1</td>\n      <td>0</td>\n      <td>0</td>\n    </tr>\n    <tr>\n      <th>2</th>\n      <td>0</td>\n      <td>0</td>\n      <td>0</td>\n      <td>1</td>\n      <td>7</td>\n      <td>2</td>\n      <td>179</td>\n      <td>51</td>\n      <td>38</td>\n      <td>239.554</td>\n      <td>31</td>\n      <td>0</td>\n      <td>0</td>\n      <td>0</td>\n      <td>0</td>\n    </tr>\n    <tr>\n      <th>3</th>\n      <td>1</td>\n      <td>0</td>\n      <td>0</td>\n      <td>0</td>\n      <td>7</td>\n      <td>3</td>\n      <td>279</td>\n      <td>5</td>\n      <td>39</td>\n      <td>239.554</td>\n      <td>24</td>\n      <td>0</td>\n      <td>2</td>\n      <td>0</td>\n      <td>1</td>\n    </tr>\n    <tr>\n      <th>4</th>\n      <td>0</td>\n      <td>0</td>\n      <td>0</td>\n      <td>1</td>\n      <td>7</td>\n      <td>3</td>\n      <td>289</td>\n      <td>36</td>\n      <td>33</td>\n      <td>239.554</td>\n      <td>30</td>\n      <td>0</td>\n      <td>2</td>\n      <td>1</td>\n      <td>0</td>\n    </tr>\n  </tbody>\n</table>\n</div>"
     },
     "metadata": {},
     "execution_count": 10
    }
   ],
   "source": [
    "data_with_targets.head()"
   ]
  },
  {
   "source": [
    "## Select inputs for the regression\n"
   ],
   "cell_type": "markdown",
   "metadata": {}
  },
  {
   "cell_type": "code",
   "execution_count": 11,
   "metadata": {},
   "outputs": [
    {
     "output_type": "execute_result",
     "data": {
      "text/plain": [
       "(700, 15)"
      ]
     },
     "metadata": {},
     "execution_count": 11
    }
   ],
   "source": [
    "data_with_targets.shape"
   ]
  },
  {
   "cell_type": "code",
   "execution_count": 12,
   "metadata": {},
   "outputs": [
    {
     "output_type": "execute_result",
     "data": {
      "text/plain": [
       "   Reason_1  Reason_2  Reason_3  Reason_4  Month Value  Day of the week  \\\n",
       "0         0         0         0         1            7                1   \n",
       "1         0         0         0         0            7                1   \n",
       "2         0         0         0         1            7                2   \n",
       "3         1         0         0         0            7                3   \n",
       "4         0         0         0         1            7                3   \n",
       "\n",
       "   Transportation Expense  Distance to Work  Age  Daily Work Load Average  \\\n",
       "0                     289                36   33                  239.554   \n",
       "1                     118                13   50                  239.554   \n",
       "2                     179                51   38                  239.554   \n",
       "3                     279                 5   39                  239.554   \n",
       "4                     289                36   33                  239.554   \n",
       "\n",
       "   Body Mass Index  Education  Children  Pets  \n",
       "0               30          0         2     1  \n",
       "1               31          0         1     0  \n",
       "2               31          0         0     0  \n",
       "3               24          0         2     0  \n",
       "4               30          0         2     1  "
      ],
      "text/html": "<div>\n<style scoped>\n    .dataframe tbody tr th:only-of-type {\n        vertical-align: middle;\n    }\n\n    .dataframe tbody tr th {\n        vertical-align: top;\n    }\n\n    .dataframe thead th {\n        text-align: right;\n    }\n</style>\n<table border=\"1\" class=\"dataframe\">\n  <thead>\n    <tr style=\"text-align: right;\">\n      <th></th>\n      <th>Reason_1</th>\n      <th>Reason_2</th>\n      <th>Reason_3</th>\n      <th>Reason_4</th>\n      <th>Month Value</th>\n      <th>Day of the week</th>\n      <th>Transportation Expense</th>\n      <th>Distance to Work</th>\n      <th>Age</th>\n      <th>Daily Work Load Average</th>\n      <th>Body Mass Index</th>\n      <th>Education</th>\n      <th>Children</th>\n      <th>Pets</th>\n    </tr>\n  </thead>\n  <tbody>\n    <tr>\n      <th>0</th>\n      <td>0</td>\n      <td>0</td>\n      <td>0</td>\n      <td>1</td>\n      <td>7</td>\n      <td>1</td>\n      <td>289</td>\n      <td>36</td>\n      <td>33</td>\n      <td>239.554</td>\n      <td>30</td>\n      <td>0</td>\n      <td>2</td>\n      <td>1</td>\n    </tr>\n    <tr>\n      <th>1</th>\n      <td>0</td>\n      <td>0</td>\n      <td>0</td>\n      <td>0</td>\n      <td>7</td>\n      <td>1</td>\n      <td>118</td>\n      <td>13</td>\n      <td>50</td>\n      <td>239.554</td>\n      <td>31</td>\n      <td>0</td>\n      <td>1</td>\n      <td>0</td>\n    </tr>\n    <tr>\n      <th>2</th>\n      <td>0</td>\n      <td>0</td>\n      <td>0</td>\n      <td>1</td>\n      <td>7</td>\n      <td>2</td>\n      <td>179</td>\n      <td>51</td>\n      <td>38</td>\n      <td>239.554</td>\n      <td>31</td>\n      <td>0</td>\n      <td>0</td>\n      <td>0</td>\n    </tr>\n    <tr>\n      <th>3</th>\n      <td>1</td>\n      <td>0</td>\n      <td>0</td>\n      <td>0</td>\n      <td>7</td>\n      <td>3</td>\n      <td>279</td>\n      <td>5</td>\n      <td>39</td>\n      <td>239.554</td>\n      <td>24</td>\n      <td>0</td>\n      <td>2</td>\n      <td>0</td>\n    </tr>\n    <tr>\n      <th>4</th>\n      <td>0</td>\n      <td>0</td>\n      <td>0</td>\n      <td>1</td>\n      <td>7</td>\n      <td>3</td>\n      <td>289</td>\n      <td>36</td>\n      <td>33</td>\n      <td>239.554</td>\n      <td>30</td>\n      <td>0</td>\n      <td>2</td>\n      <td>1</td>\n    </tr>\n  </tbody>\n</table>\n</div>"
     },
     "metadata": {},
     "execution_count": 12
    }
   ],
   "source": [
    "unscaled_inputs = data_with_targets.iloc[:,:-1]\n",
    "unscaled_inputs.head()"
   ]
  },
  {
   "source": [
    "## Standardize the date\n"
   ],
   "cell_type": "markdown",
   "metadata": {}
  },
  {
   "cell_type": "code",
   "execution_count": 13,
   "metadata": {},
   "outputs": [],
   "source": [
    "#Scale only the numerical features\n",
    "\n",
    "from sklearn.base import BaseEstimator, TransformerMixin\n",
    "from sklearn.preprocessing import StandardScaler"
   ]
  },
  {
   "cell_type": "code",
   "execution_count": 14,
   "metadata": {},
   "outputs": [],
   "source": [
    "class CustomScaler(BaseEstimator,TransformerMixin): \n",
    "    \n",
    "    # init or what information we need to declare a CustomScaler object\n",
    "    # and what is calculated/declared as we do\n",
    "    \n",
    "    def __init__(self,columns,copy=True,with_mean=True,with_std=True):\n",
    "        \n",
    "        # scaler is nothing but a Standard Scaler object\n",
    "        self.scaler = StandardScaler(copy,with_mean,with_std)\n",
    "        # with some columns 'twist'\n",
    "        self.columns = columns\n",
    "        self.mean_ = None\n",
    "        self.var_ = None\n",
    "        \n",
    "    \n",
    "    # the fit method, which, again based on StandardScale\n",
    "    \n",
    "    def fit(self, X, y=None):\n",
    "        self.scaler.fit(X[self.columns], y)\n",
    "        self.mean_ = np.mean(X[self.columns])\n",
    "        self.var_ = np.var(X[self.columns])\n",
    "        return self\n",
    "    \n",
    "    # the transform method which does the actual scaling\n",
    "\n",
    "    def transform(self, X, y=None, copy=None):\n",
    "        \n",
    "        # record the initial order of the columns\n",
    "        init_col_order = X.columns\n",
    "        \n",
    "        # scale all features that you chose when creating the instance of the class\n",
    "        X_scaled = pd.DataFrame(self.scaler.transform(X[self.columns]), columns=self.columns)\n",
    "        \n",
    "        # declare a variable containing all information that was not scaled\n",
    "        X_not_scaled = X.loc[:,~X.columns.isin(self.columns)]\n",
    "        \n",
    "        # return a data frame which contains all scaled features and all 'not scaled' features\n",
    "        # use the original order (that you recorded in the beginning)\n",
    "        return pd.concat([X_not_scaled, X_scaled], axis=1)[init_col_order]"
   ]
  },
  {
   "cell_type": "code",
   "execution_count": 15,
   "metadata": {},
   "outputs": [
    {
     "output_type": "execute_result",
     "data": {
      "text/plain": [
       "array(['Reason_1', 'Reason_2', 'Reason_3', 'Reason_4', 'Month Value',\n",
       "       'Day of the week', 'Transportation Expense', 'Distance to Work',\n",
       "       'Age', 'Daily Work Load Average', 'Body Mass Index', 'Education',\n",
       "       'Children', 'Pets'], dtype=object)"
      ]
     },
     "metadata": {},
     "execution_count": 15
    }
   ],
   "source": [
    "unscaled_inputs.columns.values"
   ]
  },
  {
   "cell_type": "code",
   "execution_count": 16,
   "metadata": {},
   "outputs": [],
   "source": [
    "columns_to_scale = ['Month Value',\n",
    "       'Day of the week', 'Transportation Expense', 'Distance to Work',\n",
    "       'Age', 'Daily Work Load Average', 'Body Mass Index', 'Education',\n",
    "       'Children', 'Pets']"
   ]
  },
  {
   "cell_type": "code",
   "execution_count": 17,
   "metadata": {},
   "outputs": [],
   "source": [
    "absenteeism_scaler = CustomScaler(columns_to_scale)"
   ]
  },
  {
   "cell_type": "code",
   "execution_count": 18,
   "metadata": {},
   "outputs": [
    {
     "output_type": "execute_result",
     "data": {
      "text/plain": [
       "CustomScaler(columns=['Month Value', 'Day of the week',\n",
       "                      'Transportation Expense', 'Distance to Work', 'Age',\n",
       "                      'Daily Work Load Average', 'Body Mass Index', 'Education',\n",
       "                      'Children', 'Pets'],\n",
       "             copy=None, with_mean=None, with_std=None)"
      ]
     },
     "metadata": {},
     "execution_count": 18
    }
   ],
   "source": [
    "absenteeism_scaler.fit(unscaled_inputs)"
   ]
  },
  {
   "cell_type": "code",
   "execution_count": 19,
   "metadata": {},
   "outputs": [],
   "source": [
    "scaled_inputs = absenteeism_scaler.transform(unscaled_inputs)"
   ]
  },
  {
   "cell_type": "code",
   "execution_count": 20,
   "metadata": {},
   "outputs": [
    {
     "output_type": "execute_result",
     "data": {
      "text/plain": [
       "     Reason_1  Reason_2  Reason_3  Reason_4  Month Value  Day of the week  \\\n",
       "0           0         0         0         1     0.182726        -0.683704   \n",
       "1           0         0         0         0     0.182726        -0.683704   \n",
       "2           0         0         0         1     0.182726        -0.007725   \n",
       "3           1         0         0         0     0.182726         0.668253   \n",
       "4           0         0         0         1     0.182726         0.668253   \n",
       "..        ...       ...       ...       ...          ...              ...   \n",
       "695         1         0         0         0    -0.388293        -0.007725   \n",
       "696         1         0         0         0    -0.388293        -0.007725   \n",
       "697         1         0         0         0    -0.388293         0.668253   \n",
       "698         0         0         0         1    -0.388293         0.668253   \n",
       "699         0         0         0         1    -0.388293         0.668253   \n",
       "\n",
       "     Transportation Expense  Distance to Work       Age  \\\n",
       "0                  1.005844          0.412816 -0.536062   \n",
       "1                 -1.574681         -1.141882  2.130803   \n",
       "2                 -0.654143          1.426749  0.248310   \n",
       "3                  0.854936         -1.682647  0.405184   \n",
       "4                  1.005844          0.412816 -0.536062   \n",
       "..                      ...               ...       ...   \n",
       "695               -0.654143         -0.533522  0.562059   \n",
       "696                0.040034         -0.263140 -1.320435   \n",
       "697                1.624567         -0.939096 -1.320435   \n",
       "698                0.190942         -0.939096 -0.692937   \n",
       "699                1.036026          0.074838  0.562059   \n",
       "\n",
       "     Daily Work Load Average  Body Mass Index  Education  Children      Pets  \n",
       "0                  -0.806331         0.767431  -0.447980  0.880469  0.268487  \n",
       "1                  -0.806331         1.002633  -0.447980 -0.019280 -0.589690  \n",
       "2                  -0.806331         1.002633  -0.447980 -0.919030 -0.589690  \n",
       "3                  -0.806331        -0.643782  -0.447980  0.880469 -0.589690  \n",
       "4                  -0.806331         0.767431  -0.447980  0.880469  0.268487  \n",
       "..                       ...              ...        ...       ...       ...  \n",
       "695                -0.853789        -1.114186   2.232242  0.880469 -0.589690  \n",
       "696                -0.853789        -0.643782  -0.447980 -0.019280  1.126663  \n",
       "697                -0.853789        -0.408580   2.232242 -0.919030 -0.589690  \n",
       "698                -0.853789        -0.408580   2.232242 -0.919030 -0.589690  \n",
       "699                -0.853789        -0.408580  -0.447980 -0.019280  0.268487  \n",
       "\n",
       "[700 rows x 14 columns]"
      ],
      "text/html": "<div>\n<style scoped>\n    .dataframe tbody tr th:only-of-type {\n        vertical-align: middle;\n    }\n\n    .dataframe tbody tr th {\n        vertical-align: top;\n    }\n\n    .dataframe thead th {\n        text-align: right;\n    }\n</style>\n<table border=\"1\" class=\"dataframe\">\n  <thead>\n    <tr style=\"text-align: right;\">\n      <th></th>\n      <th>Reason_1</th>\n      <th>Reason_2</th>\n      <th>Reason_3</th>\n      <th>Reason_4</th>\n      <th>Month Value</th>\n      <th>Day of the week</th>\n      <th>Transportation Expense</th>\n      <th>Distance to Work</th>\n      <th>Age</th>\n      <th>Daily Work Load Average</th>\n      <th>Body Mass Index</th>\n      <th>Education</th>\n      <th>Children</th>\n      <th>Pets</th>\n    </tr>\n  </thead>\n  <tbody>\n    <tr>\n      <th>0</th>\n      <td>0</td>\n      <td>0</td>\n      <td>0</td>\n      <td>1</td>\n      <td>0.182726</td>\n      <td>-0.683704</td>\n      <td>1.005844</td>\n      <td>0.412816</td>\n      <td>-0.536062</td>\n      <td>-0.806331</td>\n      <td>0.767431</td>\n      <td>-0.447980</td>\n      <td>0.880469</td>\n      <td>0.268487</td>\n    </tr>\n    <tr>\n      <th>1</th>\n      <td>0</td>\n      <td>0</td>\n      <td>0</td>\n      <td>0</td>\n      <td>0.182726</td>\n      <td>-0.683704</td>\n      <td>-1.574681</td>\n      <td>-1.141882</td>\n      <td>2.130803</td>\n      <td>-0.806331</td>\n      <td>1.002633</td>\n      <td>-0.447980</td>\n      <td>-0.019280</td>\n      <td>-0.589690</td>\n    </tr>\n    <tr>\n      <th>2</th>\n      <td>0</td>\n      <td>0</td>\n      <td>0</td>\n      <td>1</td>\n      <td>0.182726</td>\n      <td>-0.007725</td>\n      <td>-0.654143</td>\n      <td>1.426749</td>\n      <td>0.248310</td>\n      <td>-0.806331</td>\n      <td>1.002633</td>\n      <td>-0.447980</td>\n      <td>-0.919030</td>\n      <td>-0.589690</td>\n    </tr>\n    <tr>\n      <th>3</th>\n      <td>1</td>\n      <td>0</td>\n      <td>0</td>\n      <td>0</td>\n      <td>0.182726</td>\n      <td>0.668253</td>\n      <td>0.854936</td>\n      <td>-1.682647</td>\n      <td>0.405184</td>\n      <td>-0.806331</td>\n      <td>-0.643782</td>\n      <td>-0.447980</td>\n      <td>0.880469</td>\n      <td>-0.589690</td>\n    </tr>\n    <tr>\n      <th>4</th>\n      <td>0</td>\n      <td>0</td>\n      <td>0</td>\n      <td>1</td>\n      <td>0.182726</td>\n      <td>0.668253</td>\n      <td>1.005844</td>\n      <td>0.412816</td>\n      <td>-0.536062</td>\n      <td>-0.806331</td>\n      <td>0.767431</td>\n      <td>-0.447980</td>\n      <td>0.880469</td>\n      <td>0.268487</td>\n    </tr>\n    <tr>\n      <th>...</th>\n      <td>...</td>\n      <td>...</td>\n      <td>...</td>\n      <td>...</td>\n      <td>...</td>\n      <td>...</td>\n      <td>...</td>\n      <td>...</td>\n      <td>...</td>\n      <td>...</td>\n      <td>...</td>\n      <td>...</td>\n      <td>...</td>\n      <td>...</td>\n    </tr>\n    <tr>\n      <th>695</th>\n      <td>1</td>\n      <td>0</td>\n      <td>0</td>\n      <td>0</td>\n      <td>-0.388293</td>\n      <td>-0.007725</td>\n      <td>-0.654143</td>\n      <td>-0.533522</td>\n      <td>0.562059</td>\n      <td>-0.853789</td>\n      <td>-1.114186</td>\n      <td>2.232242</td>\n      <td>0.880469</td>\n      <td>-0.589690</td>\n    </tr>\n    <tr>\n      <th>696</th>\n      <td>1</td>\n      <td>0</td>\n      <td>0</td>\n      <td>0</td>\n      <td>-0.388293</td>\n      <td>-0.007725</td>\n      <td>0.040034</td>\n      <td>-0.263140</td>\n      <td>-1.320435</td>\n      <td>-0.853789</td>\n      <td>-0.643782</td>\n      <td>-0.447980</td>\n      <td>-0.019280</td>\n      <td>1.126663</td>\n    </tr>\n    <tr>\n      <th>697</th>\n      <td>1</td>\n      <td>0</td>\n      <td>0</td>\n      <td>0</td>\n      <td>-0.388293</td>\n      <td>0.668253</td>\n      <td>1.624567</td>\n      <td>-0.939096</td>\n      <td>-1.320435</td>\n      <td>-0.853789</td>\n      <td>-0.408580</td>\n      <td>2.232242</td>\n      <td>-0.919030</td>\n      <td>-0.589690</td>\n    </tr>\n    <tr>\n      <th>698</th>\n      <td>0</td>\n      <td>0</td>\n      <td>0</td>\n      <td>1</td>\n      <td>-0.388293</td>\n      <td>0.668253</td>\n      <td>0.190942</td>\n      <td>-0.939096</td>\n      <td>-0.692937</td>\n      <td>-0.853789</td>\n      <td>-0.408580</td>\n      <td>2.232242</td>\n      <td>-0.919030</td>\n      <td>-0.589690</td>\n    </tr>\n    <tr>\n      <th>699</th>\n      <td>0</td>\n      <td>0</td>\n      <td>0</td>\n      <td>1</td>\n      <td>-0.388293</td>\n      <td>0.668253</td>\n      <td>1.036026</td>\n      <td>0.074838</td>\n      <td>0.562059</td>\n      <td>-0.853789</td>\n      <td>-0.408580</td>\n      <td>-0.447980</td>\n      <td>-0.019280</td>\n      <td>0.268487</td>\n    </tr>\n  </tbody>\n</table>\n<p>700 rows × 14 columns</p>\n</div>"
     },
     "metadata": {},
     "execution_count": 20
    }
   ],
   "source": [
    "scaled_inputs"
   ]
  },
  {
   "source": [
    "## Split the data into train and test & and shuffle"
   ],
   "cell_type": "markdown",
   "metadata": {}
  },
  {
   "cell_type": "code",
   "execution_count": 21,
   "metadata": {},
   "outputs": [],
   "source": [
    "from sklearn.model_selection import train_test_split"
   ]
  },
  {
   "cell_type": "code",
   "execution_count": 22,
   "metadata": {},
   "outputs": [
    {
     "output_type": "execute_result",
     "data": {
      "text/plain": [
       "[     Reason_1  Reason_2  Reason_3  Reason_4  Month Value  Day of the week  \\\n",
       " 495         0         0         0         1     0.753746        -0.683704   \n",
       " 319         1         0         0         0     1.324766        -0.683704   \n",
       " 659         0         0         0         1    -0.673803         1.344231   \n",
       " 601         0         0         0         1    -1.244823         1.344231   \n",
       " 90          0         0         0         1     1.324766        -0.007725   \n",
       " ..        ...       ...       ...       ...          ...              ...   \n",
       " 226         0         0         0         1    -0.102784        -1.359682   \n",
       " 109         0         0         0         1     1.610276        -0.007725   \n",
       " 363         0         0         0         1    -1.530333        -1.359682   \n",
       " 431         0         0         0         1    -0.388293         1.344231   \n",
       " 345         1         0         0         0     1.610276         0.668253   \n",
       " \n",
       "      Transportation Expense  Distance to Work       Age  \\\n",
       " 495                0.356940         -0.330735  0.718933   \n",
       " 319               -0.654143          1.426749  0.248310   \n",
       " 659               -0.654143         -0.263140 -1.006686   \n",
       " 601               -0.654143         -0.533522  0.562059   \n",
       " 90                 0.040034         -0.263140 -1.320435   \n",
       " ..                      ...               ...       ...   \n",
       " 226               -1.016322         -1.209478 -0.379188   \n",
       " 109                2.092381          1.494345 -1.320435   \n",
       " 363                1.005844          0.412816 -0.536062   \n",
       " 431                0.568211          1.359154 -0.065439   \n",
       " 345                0.356940         -0.330735  0.718933   \n",
       " \n",
       "      Daily Work Load Average  Body Mass Index  Education  Children      Pets  \n",
       " 495                -0.251187        -0.878984  -0.447980 -0.919030 -0.589690  \n",
       " 319                 0.305783         1.002633  -0.447980 -0.919030 -0.589690  \n",
       " 659                -0.637953        -1.819793   2.232242 -0.919030 -0.589690  \n",
       " 601                -0.188851        -1.114186   2.232242  0.880469 -0.589690  \n",
       " 90                  0.863727        -0.643782  -0.447980 -0.019280  1.126663  \n",
       " ..                       ...              ...        ...       ...       ...  \n",
       " 226                 2.644155        -0.408580  -0.447980  0.880469 -0.589690  \n",
       " 109                -0.262439         0.061825  -0.447980 -0.019280  2.843016  \n",
       " 363                 1.456728         0.767431  -0.447980  0.880469  0.268487  \n",
       " 431                -0.643304        -0.878984  -0.447980  2.679969 -0.589690  \n",
       " 345                -0.879469        -0.878984  -0.447980 -0.919030 -0.589690  \n",
       " \n",
       " [525 rows x 14 columns],\n",
       "      Reason_1  Reason_2  Reason_3  Reason_4  Month Value  Day of the week  \\\n",
       " 568         0         0         0         1     1.610276        -1.359682   \n",
       " 631         0         0         0         1    -0.959313        -0.007725   \n",
       " 96          1         0         0         0     1.324766        -0.007725   \n",
       " 9           0         0         0         1     0.182726        -1.359682   \n",
       " 449         0         0         0         1    -0.102784        -0.683704   \n",
       " ..        ...       ...       ...       ...          ...              ...   \n",
       " 272         0         0         1         0     0.753746        -0.007725   \n",
       " 524         1         0         0         0     1.039256         0.668253   \n",
       " 395         0         0         0         1    -0.959313        -1.359682   \n",
       " 675         0         0         1         0    -0.388293        -0.007725   \n",
       " 267         0         0         1         0     0.468236        -0.007725   \n",
       " \n",
       "      Transportation Expense  Distance to Work       Age  \\\n",
       " 568                0.040034         -0.263140 -1.320435   \n",
       " 631               -0.654143          1.426749  0.248310   \n",
       " 96                 1.005844          0.412816 -0.536062   \n",
       " 9                  0.190942         -1.277074  0.091435   \n",
       " 449                0.356940         -0.330735  0.718933   \n",
       " ..                      ...               ...       ...   \n",
       " 272                1.005844          0.412816 -0.536062   \n",
       " 524                0.040034         -0.263140 -1.320435   \n",
       " 395                0.190942         -1.277074  0.091435   \n",
       " 675                0.040034         -1.006691  0.718933   \n",
       " 267                0.190942         -1.277074  0.091435   \n",
       " \n",
       "      Daily Work Load Average  Body Mass Index  Education  Children      Pets  \n",
       " 568                 0.218718        -0.643782  -0.447980 -0.019280  1.126663  \n",
       " 631                -1.240355         1.002633  -0.447980 -0.919030 -0.589690  \n",
       " 96                  0.863727         0.767431  -0.447980  0.880469  0.268487  \n",
       " 9                  -0.806331         0.532229   2.232242 -0.019280  0.268487  \n",
       " 449                -0.446195        -0.878984  -0.447980 -0.919030 -0.589690  \n",
       " ..                       ...              ...        ...       ...       ...  \n",
       " 272                 0.560476         0.767431  -0.447980  0.880469  0.268487  \n",
       " 524                 0.326336        -0.643782  -0.447980 -0.019280  1.126663  \n",
       " 395                -0.685486         0.532229   2.232242 -0.019280  0.268487  \n",
       " 675                -0.853789         0.297027   2.232242  0.880469  1.126663  \n",
       " 267                -0.154696         0.532229   2.232242 -0.019280  0.268487  \n",
       " \n",
       " [175 rows x 14 columns],\n",
       " array([0, 1, 0, 0, 0, 0, 1, 1, 0, 1, 1, 0, 1, 0, 1, 0, 0, 1, 0, 0, 1, 1,\n",
       "        1, 1, 1, 0, 0, 0, 0, 0, 0, 1, 1, 0, 0, 1, 0, 1, 0, 0, 0, 0, 0, 1,\n",
       "        1, 0, 0, 0, 1, 1, 0, 0, 0, 1, 0, 1, 0, 0, 0, 0, 0, 0, 1, 0, 1, 0,\n",
       "        0, 0, 0, 0, 0, 0, 0, 0, 1, 1, 1, 0, 1, 0, 1, 0, 0, 1, 1, 0, 0, 1,\n",
       "        1, 0, 0, 0, 1, 0, 0, 1, 1, 0, 1, 1, 0, 1, 1, 1, 0, 0, 1, 0, 0, 0,\n",
       "        1, 0, 1, 0, 1, 1, 0, 0, 1, 1, 1, 0, 0, 0, 0, 0, 1, 0, 1, 0, 0, 1,\n",
       "        0, 0, 1, 1, 0, 0, 1, 1, 0, 0, 1, 0, 0, 1, 0, 1, 0, 0, 0, 1, 1, 1,\n",
       "        1, 1, 1, 1, 1, 1, 0, 0, 1, 1, 1, 0, 1, 1, 1, 0, 0, 1, 1, 0, 1, 1,\n",
       "        1, 0, 1, 0, 0, 0, 0, 0, 0, 0, 0, 1, 0, 0, 1, 0, 0, 1, 1, 0, 1, 1,\n",
       "        0, 1, 1, 0, 0, 1, 1, 0, 0, 0, 1, 0, 0, 1, 1, 1, 1, 1, 1, 0, 1, 1,\n",
       "        0, 0, 0, 1, 1, 1, 1, 0, 1, 1, 0, 0, 0, 0, 1, 1, 0, 0, 0, 0, 1, 0,\n",
       "        1, 0, 0, 1, 1, 0, 0, 0, 1, 1, 0, 1, 0, 0, 0, 0, 0, 0, 1, 1, 1, 0,\n",
       "        0, 0, 1, 0, 0, 1, 1, 0, 0, 0, 1, 1, 0, 0, 0, 1, 1, 0, 0, 1, 0, 1,\n",
       "        1, 0, 0, 0, 1, 1, 0, 1, 1, 0, 1, 0, 1, 1, 0, 0, 0, 0, 0, 1, 0, 0,\n",
       "        1, 1, 1, 0, 1, 1, 0, 1, 0, 1, 1, 1, 0, 0, 1, 0, 1, 0, 1, 0, 0, 1,\n",
       "        1, 1, 1, 1, 0, 1, 1, 0, 1, 1, 1, 1, 1, 1, 0, 1, 0, 1, 0, 0, 1, 0,\n",
       "        0, 1, 0, 0, 1, 0, 0, 1, 1, 1, 0, 0, 0, 0, 0, 0, 1, 1, 0, 0, 0, 1,\n",
       "        0, 0, 0, 1, 0, 1, 0, 1, 1, 1, 0, 1, 1, 0, 0, 1, 1, 0, 1, 1, 0, 0,\n",
       "        0, 0, 0, 1, 0, 1, 1, 0, 0, 0, 0, 0, 1, 0, 0, 0, 0, 1, 1, 0, 0, 0,\n",
       "        0, 0, 1, 1, 0, 1, 0, 0, 0, 1, 1, 1, 0, 1, 1, 0, 0, 1, 1, 1, 0, 0,\n",
       "        0, 1, 1, 0, 0, 0, 1, 1, 0, 1, 0, 1, 1, 0, 1, 1, 1, 0, 0, 1, 0, 1,\n",
       "        0, 1, 0, 0, 0, 1, 1, 0, 1, 0, 1, 1, 0, 0, 0, 1, 1, 1, 0, 1, 0, 1,\n",
       "        1, 1, 0, 0, 1, 0, 0, 0, 0, 0, 1, 1, 0, 1, 0, 1, 0, 1, 0, 1, 1, 0,\n",
       "        0, 1, 1, 1, 0, 0, 0, 0, 0, 1, 0, 1, 0, 1, 1, 1, 1, 0, 1]),\n",
       " array([0, 0, 1, 1, 0, 0, 0, 1, 0, 0, 0, 0, 0, 1, 0, 0, 0, 1, 0, 0, 0, 0,\n",
       "        0, 1, 0, 0, 0, 1, 1, 0, 0, 1, 1, 0, 0, 0, 0, 0, 0, 0, 1, 0, 0, 1,\n",
       "        0, 1, 1, 1, 1, 0, 0, 0, 0, 1, 1, 0, 1, 1, 0, 1, 1, 1, 0, 0, 0, 1,\n",
       "        1, 1, 0, 0, 1, 0, 0, 1, 0, 0, 1, 0, 1, 0, 0, 0, 1, 1, 1, 0, 1, 0,\n",
       "        1, 0, 1, 0, 1, 0, 1, 1, 1, 1, 1, 1, 0, 0, 0, 0, 0, 1, 1, 1, 0, 1,\n",
       "        1, 0, 1, 1, 0, 1, 1, 1, 1, 0, 0, 1, 1, 1, 0, 0, 0, 1, 1, 0, 1, 0,\n",
       "        0, 0, 0, 0, 1, 0, 0, 0, 1, 0, 1, 1, 0, 0, 1, 1, 0, 0, 0, 0, 0, 1,\n",
       "        0, 0, 0, 1, 1, 0, 1, 0, 0, 0, 1, 0, 0, 1, 0, 1, 1, 0, 1, 0, 1])]"
      ]
     },
     "metadata": {},
     "execution_count": 22
    }
   ],
   "source": [
    "train_test_split(scaled_inputs, targets)"
   ]
  },
  {
   "cell_type": "code",
   "execution_count": 23,
   "metadata": {},
   "outputs": [],
   "source": [
    "x_train, x_test, y_train, y_test = train_test_split(scaled_inputs, targets, test_size = 0.2, random_state=42)"
   ]
  },
  {
   "source": [
    "## Logistic regression\n"
   ],
   "cell_type": "markdown",
   "metadata": {}
  },
  {
   "cell_type": "code",
   "execution_count": 24,
   "metadata": {},
   "outputs": [],
   "source": [
    "from sklearn.linear_model import LogisticRegression\n",
    "from sklearn import metrics"
   ]
  },
  {
   "cell_type": "code",
   "execution_count": 25,
   "metadata": {},
   "outputs": [],
   "source": [
    "reg = LogisticRegression(verbose=2)"
   ]
  },
  {
   "cell_type": "code",
   "execution_count": 26,
   "metadata": {},
   "outputs": [
    {
     "output_type": "stream",
     "name": "stderr",
     "text": [
      "[Parallel(n_jobs=1)]: Using backend SequentialBackend with 1 concurrent workers.\n[Parallel(n_jobs=1)]: Done   1 out of   1 | elapsed:    0.0s remaining:    0.0s\n[Parallel(n_jobs=1)]: Done   1 out of   1 | elapsed:    0.0s finished\n"
     ]
    },
    {
     "output_type": "execute_result",
     "data": {
      "text/plain": [
       "LogisticRegression(verbose=2)"
      ]
     },
     "metadata": {},
     "execution_count": 26
    }
   ],
   "source": [
    "reg.fit(x_train, y_train)"
   ]
  },
  {
   "cell_type": "code",
   "execution_count": 27,
   "metadata": {},
   "outputs": [
    {
     "output_type": "execute_result",
     "data": {
      "text/plain": [
       "0.7660714285714286"
      ]
     },
     "metadata": {},
     "execution_count": 27
    }
   ],
   "source": [
    "reg.score(x_train, y_train)"
   ]
  },
  {
   "source": [
    "## Checking accuracy"
   ],
   "cell_type": "markdown",
   "metadata": {}
  },
  {
   "cell_type": "code",
   "execution_count": 28,
   "metadata": {},
   "outputs": [],
   "source": [
    "model_outputs = reg.predict(x_train)"
   ]
  },
  {
   "cell_type": "code",
   "execution_count": 29,
   "metadata": {},
   "outputs": [
    {
     "output_type": "execute_result",
     "data": {
      "text/plain": [
       "array([ True,  True,  True,  True, False, False, False,  True,  True,\n",
       "        True,  True,  True,  True,  True,  True,  True,  True,  True,\n",
       "       False,  True,  True,  True,  True, False,  True,  True,  True,\n",
       "        True, False, False,  True,  True,  True,  True,  True,  True,\n",
       "        True,  True, False,  True,  True, False,  True, False,  True,\n",
       "        True, False, False,  True,  True,  True, False,  True,  True,\n",
       "        True,  True,  True,  True,  True, False,  True,  True,  True,\n",
       "       False,  True,  True,  True,  True,  True,  True,  True,  True,\n",
       "        True,  True,  True, False, False,  True,  True,  True,  True,\n",
       "        True, False,  True,  True,  True,  True,  True,  True, False,\n",
       "        True,  True, False, False,  True,  True, False, False,  True,\n",
       "        True,  True,  True,  True,  True, False,  True,  True,  True,\n",
       "        True,  True, False,  True, False,  True,  True,  True,  True,\n",
       "        True,  True,  True,  True,  True,  True,  True,  True,  True,\n",
       "        True,  True,  True,  True,  True,  True,  True,  True, False,\n",
       "        True,  True, False,  True,  True,  True,  True,  True,  True,\n",
       "        True,  True,  True,  True,  True,  True,  True,  True,  True,\n",
       "       False,  True,  True,  True,  True,  True, False,  True, False,\n",
       "       False,  True,  True,  True,  True, False, False, False, False,\n",
       "        True,  True,  True,  True,  True,  True,  True,  True,  True,\n",
       "       False, False,  True, False,  True,  True,  True,  True, False,\n",
       "        True, False,  True,  True,  True, False,  True,  True,  True,\n",
       "        True,  True,  True,  True, False,  True,  True,  True,  True,\n",
       "        True,  True,  True,  True,  True,  True,  True,  True,  True,\n",
       "        True,  True, False,  True,  True,  True, False, False,  True,\n",
       "        True,  True,  True,  True,  True, False,  True, False,  True,\n",
       "       False, False,  True,  True,  True,  True,  True,  True,  True,\n",
       "       False,  True,  True,  True,  True,  True, False,  True, False,\n",
       "        True, False,  True,  True,  True,  True, False,  True,  True,\n",
       "        True,  True,  True,  True,  True,  True,  True,  True,  True,\n",
       "        True,  True, False, False,  True,  True,  True,  True,  True,\n",
       "        True, False,  True,  True, False,  True,  True,  True,  True,\n",
       "       False,  True,  True, False,  True, False,  True, False,  True,\n",
       "        True,  True,  True,  True, False,  True,  True,  True, False,\n",
       "        True,  True,  True, False,  True,  True,  True, False,  True,\n",
       "        True,  True, False,  True,  True, False,  True,  True,  True,\n",
       "       False,  True, False,  True,  True,  True, False,  True, False,\n",
       "       False,  True, False,  True, False,  True,  True, False,  True,\n",
       "       False, False, False,  True,  True,  True,  True, False,  True,\n",
       "        True,  True,  True,  True,  True,  True,  True,  True,  True,\n",
       "        True,  True,  True,  True,  True, False,  True,  True,  True,\n",
       "        True, False,  True,  True,  True, False,  True,  True, False,\n",
       "        True,  True,  True,  True,  True,  True,  True, False, False,\n",
       "       False,  True,  True,  True,  True, False, False,  True,  True,\n",
       "        True,  True, False,  True, False, False,  True,  True,  True,\n",
       "        True, False,  True,  True,  True,  True,  True, False,  True,\n",
       "        True,  True,  True,  True,  True,  True,  True,  True,  True,\n",
       "        True, False, False, False,  True,  True,  True,  True,  True,\n",
       "        True, False,  True, False,  True,  True,  True,  True,  True,\n",
       "        True,  True, False, False,  True,  True,  True,  True,  True,\n",
       "       False, False, False,  True,  True, False,  True,  True,  True,\n",
       "       False,  True, False,  True,  True,  True,  True,  True,  True,\n",
       "        True,  True,  True,  True, False,  True,  True, False,  True,\n",
       "        True,  True,  True,  True,  True,  True, False,  True,  True,\n",
       "        True,  True, False,  True,  True,  True,  True,  True,  True,\n",
       "        True,  True,  True,  True,  True,  True, False,  True,  True,\n",
       "       False,  True, False, False,  True,  True, False, False,  True,\n",
       "        True,  True,  True, False,  True,  True, False,  True,  True,\n",
       "        True, False,  True,  True, False, False, False,  True,  True,\n",
       "       False,  True,  True,  True,  True,  True,  True, False,  True,\n",
       "        True, False,  True,  True, False,  True, False,  True, False,\n",
       "        True,  True,  True,  True,  True,  True, False,  True,  True,\n",
       "        True,  True])"
      ]
     },
     "metadata": {},
     "execution_count": 29
    }
   ],
   "source": [
    "model_outputs == y_train"
   ]
  },
  {
   "cell_type": "code",
   "execution_count": 30,
   "metadata": {},
   "outputs": [
    {
     "output_type": "execute_result",
     "data": {
      "text/plain": [
       "76.60714285714286"
      ]
     },
     "metadata": {},
     "execution_count": 30
    }
   ],
   "source": [
    "np.sum((model_outputs == y_train))/model_outputs.shape[0]*100"
   ]
  },
  {
   "cell_type": "code",
   "execution_count": 31,
   "metadata": {},
   "outputs": [
    {
     "output_type": "execute_result",
     "data": {
      "text/plain": [
       "array([-1.7575216])"
      ]
     },
     "metadata": {},
     "execution_count": 31
    }
   ],
   "source": [
    "reg.intercept_"
   ]
  },
  {
   "cell_type": "code",
   "execution_count": 32,
   "metadata": {},
   "outputs": [
    {
     "output_type": "execute_result",
     "data": {
      "text/plain": [
       "array([[ 2.92993196,  0.73453473,  3.07517417,  0.99389691,  0.07923215,\n",
       "        -0.15754023,  0.67570676, -0.05915557, -0.25914578, -0.02183528,\n",
       "         0.24334102, -0.10857391,  0.41638209, -0.31223952]])"
      ]
     },
     "metadata": {},
     "execution_count": 32
    }
   ],
   "source": [
    "reg.coef_"
   ]
  },
  {
   "cell_type": "code",
   "execution_count": 33,
   "metadata": {},
   "outputs": [],
   "source": [
    "feature_name = unscaled_inputs.columns.values"
   ]
  },
  {
   "cell_type": "code",
   "execution_count": 34,
   "metadata": {},
   "outputs": [
    {
     "output_type": "execute_result",
     "data": {
      "text/plain": [
       "               Feature Name  Coefficient\n",
       "0                  Reason_1     2.929932\n",
       "1                  Reason_2     0.734535\n",
       "2                  Reason_3     3.075174\n",
       "3                  Reason_4     0.993897\n",
       "4               Month Value     0.079232\n",
       "5           Day of the week    -0.157540\n",
       "6    Transportation Expense     0.675707\n",
       "7          Distance to Work    -0.059156\n",
       "8                       Age    -0.259146\n",
       "9   Daily Work Load Average    -0.021835\n",
       "10          Body Mass Index     0.243341\n",
       "11                Education    -0.108574\n",
       "12                 Children     0.416382\n",
       "13                     Pets    -0.312240"
      ],
      "text/html": "<div>\n<style scoped>\n    .dataframe tbody tr th:only-of-type {\n        vertical-align: middle;\n    }\n\n    .dataframe tbody tr th {\n        vertical-align: top;\n    }\n\n    .dataframe thead th {\n        text-align: right;\n    }\n</style>\n<table border=\"1\" class=\"dataframe\">\n  <thead>\n    <tr style=\"text-align: right;\">\n      <th></th>\n      <th>Feature Name</th>\n      <th>Coefficient</th>\n    </tr>\n  </thead>\n  <tbody>\n    <tr>\n      <th>0</th>\n      <td>Reason_1</td>\n      <td>2.929932</td>\n    </tr>\n    <tr>\n      <th>1</th>\n      <td>Reason_2</td>\n      <td>0.734535</td>\n    </tr>\n    <tr>\n      <th>2</th>\n      <td>Reason_3</td>\n      <td>3.075174</td>\n    </tr>\n    <tr>\n      <th>3</th>\n      <td>Reason_4</td>\n      <td>0.993897</td>\n    </tr>\n    <tr>\n      <th>4</th>\n      <td>Month Value</td>\n      <td>0.079232</td>\n    </tr>\n    <tr>\n      <th>5</th>\n      <td>Day of the week</td>\n      <td>-0.157540</td>\n    </tr>\n    <tr>\n      <th>6</th>\n      <td>Transportation Expense</td>\n      <td>0.675707</td>\n    </tr>\n    <tr>\n      <th>7</th>\n      <td>Distance to Work</td>\n      <td>-0.059156</td>\n    </tr>\n    <tr>\n      <th>8</th>\n      <td>Age</td>\n      <td>-0.259146</td>\n    </tr>\n    <tr>\n      <th>9</th>\n      <td>Daily Work Load Average</td>\n      <td>-0.021835</td>\n    </tr>\n    <tr>\n      <th>10</th>\n      <td>Body Mass Index</td>\n      <td>0.243341</td>\n    </tr>\n    <tr>\n      <th>11</th>\n      <td>Education</td>\n      <td>-0.108574</td>\n    </tr>\n    <tr>\n      <th>12</th>\n      <td>Children</td>\n      <td>0.416382</td>\n    </tr>\n    <tr>\n      <th>13</th>\n      <td>Pets</td>\n      <td>-0.312240</td>\n    </tr>\n  </tbody>\n</table>\n</div>"
     },
     "metadata": {},
     "execution_count": 34
    }
   ],
   "source": [
    "summary_table = pd.DataFrame(columns=['Feature Name'], data=feature_name)\n",
    "summary_table[\"Coefficient\"] = np.transpose(reg.coef_)\n",
    "summary_table"
   ]
  },
  {
   "cell_type": "code",
   "execution_count": 35,
   "metadata": {},
   "outputs": [],
   "source": [
    "summary_table.index = summary_table.index + 1"
   ]
  },
  {
   "cell_type": "code",
   "execution_count": 36,
   "metadata": {},
   "outputs": [],
   "source": [
    "summary_table.loc[0] = [\"Intercept\", reg.intercept_[0]]"
   ]
  },
  {
   "cell_type": "code",
   "execution_count": 37,
   "metadata": {},
   "outputs": [
    {
     "output_type": "execute_result",
     "data": {
      "text/plain": [
       "               Feature Name  Coefficient\n",
       "3                  Reason_3     3.075174\n",
       "1                  Reason_1     2.929932\n",
       "4                  Reason_4     0.993897\n",
       "2                  Reason_2     0.734535\n",
       "7    Transportation Expense     0.675707\n",
       "13                 Children     0.416382\n",
       "11          Body Mass Index     0.243341\n",
       "5               Month Value     0.079232\n",
       "10  Daily Work Load Average    -0.021835\n",
       "8          Distance to Work    -0.059156\n",
       "12                Education    -0.108574\n",
       "6           Day of the week    -0.157540\n",
       "9                       Age    -0.259146\n",
       "14                     Pets    -0.312240\n",
       "0                 Intercept    -1.757522"
      ],
      "text/html": "<div>\n<style scoped>\n    .dataframe tbody tr th:only-of-type {\n        vertical-align: middle;\n    }\n\n    .dataframe tbody tr th {\n        vertical-align: top;\n    }\n\n    .dataframe thead th {\n        text-align: right;\n    }\n</style>\n<table border=\"1\" class=\"dataframe\">\n  <thead>\n    <tr style=\"text-align: right;\">\n      <th></th>\n      <th>Feature Name</th>\n      <th>Coefficient</th>\n    </tr>\n  </thead>\n  <tbody>\n    <tr>\n      <th>3</th>\n      <td>Reason_3</td>\n      <td>3.075174</td>\n    </tr>\n    <tr>\n      <th>1</th>\n      <td>Reason_1</td>\n      <td>2.929932</td>\n    </tr>\n    <tr>\n      <th>4</th>\n      <td>Reason_4</td>\n      <td>0.993897</td>\n    </tr>\n    <tr>\n      <th>2</th>\n      <td>Reason_2</td>\n      <td>0.734535</td>\n    </tr>\n    <tr>\n      <th>7</th>\n      <td>Transportation Expense</td>\n      <td>0.675707</td>\n    </tr>\n    <tr>\n      <th>13</th>\n      <td>Children</td>\n      <td>0.416382</td>\n    </tr>\n    <tr>\n      <th>11</th>\n      <td>Body Mass Index</td>\n      <td>0.243341</td>\n    </tr>\n    <tr>\n      <th>5</th>\n      <td>Month Value</td>\n      <td>0.079232</td>\n    </tr>\n    <tr>\n      <th>10</th>\n      <td>Daily Work Load Average</td>\n      <td>-0.021835</td>\n    </tr>\n    <tr>\n      <th>8</th>\n      <td>Distance to Work</td>\n      <td>-0.059156</td>\n    </tr>\n    <tr>\n      <th>12</th>\n      <td>Education</td>\n      <td>-0.108574</td>\n    </tr>\n    <tr>\n      <th>6</th>\n      <td>Day of the week</td>\n      <td>-0.157540</td>\n    </tr>\n    <tr>\n      <th>9</th>\n      <td>Age</td>\n      <td>-0.259146</td>\n    </tr>\n    <tr>\n      <th>14</th>\n      <td>Pets</td>\n      <td>-0.312240</td>\n    </tr>\n    <tr>\n      <th>0</th>\n      <td>Intercept</td>\n      <td>-1.757522</td>\n    </tr>\n  </tbody>\n</table>\n</div>"
     },
     "metadata": {},
     "execution_count": 37
    }
   ],
   "source": [
    "summary_table.sort_values('Coefficient', ascending=False)"
   ]
  },
  {
   "source": [
    "## Testing the model\n"
   ],
   "cell_type": "markdown",
   "metadata": {}
  },
  {
   "cell_type": "code",
   "execution_count": 38,
   "metadata": {},
   "outputs": [
    {
     "output_type": "execute_result",
     "data": {
      "text/plain": [
       "0.7714285714285715"
      ]
     },
     "metadata": {},
     "execution_count": 38
    }
   ],
   "source": [
    "reg.score(x_test, y_test)"
   ]
  },
  {
   "cell_type": "code",
   "execution_count": 40,
   "metadata": {},
   "outputs": [
    {
     "output_type": "execute_result",
     "data": {
      "text/plain": [
       "array([[0.82479129, 0.17520871],\n",
       "       [0.87647778, 0.12352222],\n",
       "       [0.77483419, 0.22516581],\n",
       "       [0.58309947, 0.41690053],\n",
       "       [0.51095095, 0.48904905],\n",
       "       [0.08342333, 0.91657667],\n",
       "       [0.66267711, 0.33732289],\n",
       "       [0.3461606 , 0.6538394 ],\n",
       "       [0.75267385, 0.24732615],\n",
       "       [0.71080784, 0.28919216],\n",
       "       [0.8873699 , 0.1126301 ],\n",
       "       [0.68878666, 0.31121334],\n",
       "       [0.25475123, 0.74524877],\n",
       "       [0.51186407, 0.48813593],\n",
       "       [0.74009104, 0.25990896],\n",
       "       [0.45183015, 0.54816985],\n",
       "       [0.92160616, 0.07839384],\n",
       "       [0.25305153, 0.74694847],\n",
       "       [0.88831271, 0.11168729],\n",
       "       [0.59781606, 0.40218394],\n",
       "       [0.67248635, 0.32751365],\n",
       "       [0.78027914, 0.21972086],\n",
       "       [0.67318629, 0.32681371],\n",
       "       [0.66823202, 0.33176798],\n",
       "       [0.87004581, 0.12995419],\n",
       "       [0.18751338, 0.81248662],\n",
       "       [0.60454451, 0.39545549],\n",
       "       [0.56493446, 0.43506554],\n",
       "       [0.79462288, 0.20537712],\n",
       "       [0.62889024, 0.37110976],\n",
       "       [0.89051754, 0.10948246],\n",
       "       [0.85087111, 0.14912889],\n",
       "       [0.42504916, 0.57495084],\n",
       "       [0.44856152, 0.55143848],\n",
       "       [0.76376772, 0.23623228],\n",
       "       [0.29921498, 0.70078502],\n",
       "       [0.71821392, 0.28178608],\n",
       "       [0.84456563, 0.15543437],\n",
       "       [0.11293715, 0.88706285],\n",
       "       [0.82420541, 0.17579459],\n",
       "       [0.44465395, 0.55534605],\n",
       "       [0.76255405, 0.23744595],\n",
       "       [0.45898876, 0.54101124],\n",
       "       [0.85103681, 0.14896319],\n",
       "       [0.80447568, 0.19552432],\n",
       "       [0.24925665, 0.75074335],\n",
       "       [0.19633406, 0.80366594],\n",
       "       [0.09999939, 0.90000061],\n",
       "       [0.65624252, 0.34375748],\n",
       "       [0.86064429, 0.13935571],\n",
       "       [0.77185089, 0.22814911],\n",
       "       [0.68120984, 0.31879016],\n",
       "       [0.5617652 , 0.4382348 ],\n",
       "       [0.05345585, 0.94654415],\n",
       "       [0.83880432, 0.16119568],\n",
       "       [0.74932673, 0.25067327],\n",
       "       [0.02465917, 0.97534083],\n",
       "       [0.72321403, 0.27678597],\n",
       "       [0.12069426, 0.87930574],\n",
       "       [0.75600842, 0.24399158],\n",
       "       [0.45250401, 0.54749599],\n",
       "       [0.86169401, 0.13830599],\n",
       "       [0.45921069, 0.54078931],\n",
       "       [0.34473448, 0.65526552],\n",
       "       [0.8873699 , 0.1126301 ],\n",
       "       [0.58351712, 0.41648288],\n",
       "       [0.33309675, 0.66690325],\n",
       "       [0.93422503, 0.06577497],\n",
       "       [0.7068816 , 0.2931184 ],\n",
       "       [0.51306418, 0.48693582],\n",
       "       [0.71080784, 0.28919216],\n",
       "       [0.7732936 , 0.2267064 ],\n",
       "       [0.26281635, 0.73718365],\n",
       "       [0.68120984, 0.31879016],\n",
       "       [0.88269457, 0.11730543],\n",
       "       [0.34464834, 0.65535166],\n",
       "       [0.56951402, 0.43048598],\n",
       "       [0.79471653, 0.20528347],\n",
       "       [0.76848347, 0.23151653],\n",
       "       [0.57968711, 0.42031289],\n",
       "       [0.08342333, 0.91657667],\n",
       "       [0.09553764, 0.90446236],\n",
       "       [0.85243584, 0.14756416],\n",
       "       [0.80605728, 0.19394272],\n",
       "       [0.87969496, 0.12030504],\n",
       "       [0.31001622, 0.68998378],\n",
       "       [0.80151605, 0.19848395],\n",
       "       [0.10955933, 0.89044067],\n",
       "       [0.24819761, 0.75180239],\n",
       "       [0.67985113, 0.32014887],\n",
       "       [0.83044142, 0.16955858],\n",
       "       [0.43081561, 0.56918439],\n",
       "       [0.66887514, 0.33112486],\n",
       "       [0.7312277 , 0.2687723 ],\n",
       "       [0.54649081, 0.45350919],\n",
       "       [0.11293715, 0.88706285],\n",
       "       [0.43502955, 0.56497045],\n",
       "       [0.05433406, 0.94566594],\n",
       "       [0.36597245, 0.63402755],\n",
       "       [0.2219008 , 0.7780992 ],\n",
       "       [0.71261642, 0.28738358],\n",
       "       [0.32022489, 0.67977511],\n",
       "       [0.78718034, 0.21281966],\n",
       "       [0.18725748, 0.81274252],\n",
       "       [0.8612664 , 0.1387336 ],\n",
       "       [0.43146317, 0.56853683],\n",
       "       [0.13351684, 0.86648316],\n",
       "       [0.82420541, 0.17579459],\n",
       "       [0.88412344, 0.11587656],\n",
       "       [0.36518302, 0.63481698],\n",
       "       [0.30930366, 0.69069634],\n",
       "       [0.39074874, 0.60925126],\n",
       "       [0.52690769, 0.47309231],\n",
       "       [0.65767051, 0.34232949],\n",
       "       [0.25145712, 0.74854288],\n",
       "       [0.50065352, 0.49934648],\n",
       "       [0.65346374, 0.34653626],\n",
       "       [0.08771081, 0.91228919],\n",
       "       [0.491896  , 0.508104  ],\n",
       "       [0.11358456, 0.88641544],\n",
       "       [0.73046565, 0.26953435],\n",
       "       [0.19732917, 0.80267083],\n",
       "       [0.222164  , 0.777836  ],\n",
       "       [0.25379551, 0.74620449],\n",
       "       [0.24913654, 0.75086346],\n",
       "       [0.66748429, 0.33251571],\n",
       "       [0.78718034, 0.21281966],\n",
       "       [0.71015856, 0.28984144],\n",
       "       [0.30132205, 0.69867795],\n",
       "       [0.82620127, 0.17379873],\n",
       "       [0.64694373, 0.35305627],\n",
       "       [0.85392676, 0.14607324],\n",
       "       [0.21213337, 0.78786663],\n",
       "       [0.48697101, 0.51302899],\n",
       "       [0.66009802, 0.33990198],\n",
       "       [0.05130751, 0.94869249],\n",
       "       [0.49888684, 0.50111316],\n",
       "       [0.38623914, 0.61376086],\n",
       "       [0.62728577, 0.37271423],\n",
       "       [0.8730143 , 0.1269857 ]])"
      ]
     },
     "metadata": {},
     "execution_count": 40
    }
   ],
   "source": [
    "predicted_proba = reg.predict_proba(x_test)\n",
    "predicted_proba"
   ]
  },
  {
   "source": [
    "## Saving the model"
   ],
   "cell_type": "markdown",
   "metadata": {}
  },
  {
   "cell_type": "code",
   "execution_count": 41,
   "metadata": {},
   "outputs": [],
   "source": [
    "import pickle"
   ]
  },
  {
   "cell_type": "code",
   "execution_count": 42,
   "metadata": {},
   "outputs": [],
   "source": [
    "with open('model', 'wb') as file:\n",
    "    pickle.dump(reg, file)\n",
    " #'rm' for reading\n",
    " #pickle.load for loading the model    "
   ]
  },
  {
   "cell_type": "code",
   "execution_count": 43,
   "metadata": {},
   "outputs": [],
   "source": [
    "with open('scaler', 'wb') as file:\n",
    "    pickle.dump(absenteeism_scaler, file)"
   ]
  },
  {
   "cell_type": "code",
   "execution_count": null,
   "metadata": {},
   "outputs": [],
   "source": []
  }
 ]
}